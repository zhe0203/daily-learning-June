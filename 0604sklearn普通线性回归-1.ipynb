{
 "cells": [
  {
   "cell_type": "markdown",
   "metadata": {},
   "source": [
    "# 1、普通线性回归"
   ]
  },
  {
   "cell_type": "markdown",
   "metadata": {},
   "source": [
    "### 1.1 OLS回归"
   ]
  },
  {
   "cell_type": "markdown",
   "metadata": {},
   "source": [
    "* 对于线性回归模型中，解释变量的估计系数，在 **coef_** 参数中得到，而对于截距项系数，可以在 **intercept_** 中得到。"
   ]
  },
  {
   "cell_type": "markdown",
   "metadata": {},
   "source": [
    "* 线性回归模型是去最小化拟合结果与实际结果的残差的平方和"
   ]
  },
  {
   "cell_type": "markdown",
   "metadata": {},
   "source": [
    "* **LinearRegression** 会接收其 **fit** 方法的数组X,y,并且在拟合后将其计算出的解释变量、截距项的系数分别存放在coef_和intercept_中"
   ]
  },
  {
   "cell_type": "code",
   "execution_count": 6,
   "metadata": {
    "collapsed": false
   },
   "outputs": [
    {
     "name": "stdout",
     "output_type": "stream",
     "text": [
      "         x1        x2   y\n",
      "0 -0.846334 -0.599632   1\n",
      "1  0.098812 -1.172374   2\n",
      "2  0.282343 -1.394880   3\n",
      "3 -0.864165  0.520508   4\n",
      "4 -0.444380 -0.132791   5\n",
      "5  1.999830  0.674573   6\n",
      "6  0.615407  0.583752   7\n",
      "7  1.131488 -0.598677   8\n",
      "8  0.949680  1.230386   9\n",
      "9  1.948539 -0.224125  10\n"
     ]
    }
   ],
   "source": [
    "from sklearn import linear_model\n",
    "import pandas as pd\n",
    "import numpy as np\n",
    "# 生成模拟的数据\n",
    "df = pd.DataFrame({'x1':np.random.randn(10),'x2':np.random.randn(10),'y':np.arange(1,11)})\n",
    "print(df)"
   ]
  },
  {
   "cell_type": "markdown",
   "metadata": {},
   "source": [
    "#### 对于reg.fit(X,y)其中X，y的数据类型要求：\n",
    "* scikit-learn要求X是一个特征矩阵，y是一个NumPy向量\n",
    "* pandas构建在NumPy之上\n",
    "* 因此，X可以是pandas的DataFrame，y可以是pandas的Series，scikit-learn可以理解这种结构"
   ]
  },
  {
   "cell_type": "code",
   "execution_count": 7,
   "metadata": {
    "collapsed": false
   },
   "outputs": [
    {
     "name": "stdout",
     "output_type": "stream",
     "text": [
      "[ 1.90166226  1.36417865] 4.72552726548\n"
     ]
    }
   ],
   "source": [
    "# 建立线性回归模型\n",
    "reg = linear_model.LinearRegression()\n",
    "reg.fit(df[['x1','x2']],df['y'])\n",
    "print(reg.coef_,reg.intercept_)"
   ]
  },
  {
   "cell_type": "markdown",
   "metadata": {},
   "source": [
    "### for example 1:"
   ]
  },
  {
   "cell_type": "code",
   "execution_count": 10,
   "metadata": {
    "collapsed": false
   },
   "outputs": [
    {
     "name": "stdout",
     "output_type": "stream",
     "text": [
      "      TV  Radio  Newspaper  Sales\n",
      "1  230.1   37.8       69.2   22.1\n",
      "2   44.5   39.3       45.1   10.4\n",
      "3   17.2   45.9       69.3    9.3\n",
      "4  151.5   41.3       58.5   18.5\n",
      "5  180.8   10.8       58.4   12.9\n",
      "(200, 4)\n"
     ]
    }
   ],
   "source": [
    "data = pd.read_csv('http://www-bcf.usc.edu/~gareth/ISL/Advertising.csv', index_col=0)\n",
    "print(data.head())\n",
    "print(data.shape)    # 查看数据框的维度"
   ]
  },
  {
   "cell_type": "markdown",
   "metadata": {},
   "source": [
    "#### 建立线性回归模型"
   ]
  },
  {
   "cell_type": "code",
   "execution_count": 11,
   "metadata": {
    "collapsed": false
   },
   "outputs": [
    {
     "name": "stdout",
     "output_type": "stream",
     "text": [
      "(150, 3) (150,) (50, 3) (50,)\n"
     ]
    }
   ],
   "source": [
    "x = data[['TV', 'Radio', 'Newspaper']]   # 解释变量\n",
    "y = data['Sales']                        # 被解释变量\n",
    "# 构造训练集和测试集\n",
    "from sklearn.cross_validation import train_test_split\n",
    "# 默认是将75% 25%分开测试集、训练集\n",
    "x_train,x_test,y_train,y_test = train_test_split(x,y,random_state=1)\n",
    "print(x_train.shape,y_train.shape,x_test.shape,y_test.shape)"
   ]
  },
  {
   "cell_type": "code",
   "execution_count": 17,
   "metadata": {
    "collapsed": false
   },
   "outputs": [
    {
     "name": "stdout",
     "output_type": "stream",
     "text": [
      "截距项：2.87696662232 解释变量系数：[ 0.04656457  0.17915812  0.00345046]\n"
     ]
    }
   ],
   "source": [
    "linreg = linear_model.LinearRegression()\n",
    "linreg.fit(x_train,y_train)\n",
    "print('截距项：%s' % linreg.intercept_,'解释变量系数：%s' % linreg.coef_)"
   ]
  },
  {
   "cell_type": "markdown",
   "metadata": {},
   "source": [
    "#### 预测"
   ]
  },
  {
   "cell_type": "code",
   "execution_count": 18,
   "metadata": {
    "collapsed": false
   },
   "outputs": [
    {
     "name": "stdout",
     "output_type": "stream",
     "text": [
      "[ 21.70910292  16.41055243   7.60955058  17.80769552  18.6146359\n",
      "  23.83573998  16.32488681  13.43225536   9.17173403  17.333853\n",
      "  14.44479482   9.83511973  17.18797614  16.73086831  15.05529391\n",
      "  15.61434433  12.42541574  17.17716376  11.08827566  18.00537501\n",
      "   9.28438889  12.98458458   8.79950614  10.42382499  11.3846456\n",
      "  14.98082512   9.78853268  19.39643187  18.18099936  17.12807566\n",
      "  21.54670213  14.69809481  16.24641438  12.32114579  19.92422501\n",
      "  15.32498602  13.88726522  10.03162255  20.93105915   7.44936831\n",
      "   3.64695761   7.22020178   5.9962782   18.43381853   8.39408045\n",
      "  14.08371047  15.02195699  20.35836418  20.57036347  19.60636679]\n"
     ]
    }
   ],
   "source": [
    "y_pred = linreg.predict(x_test)\n",
    "print(y_pred)"
   ]
  },
  {
   "cell_type": "markdown",
   "metadata": {},
   "source": [
    "#### 模型拟合结果的评价\n",
    "* 1、平均绝对误差 |yi−y|\n",
    "* 2、均方误差 MSE (yi−y)^2\n",
    "* 3、均方根误差 RMSE"
   ]
  },
  {
   "cell_type": "code",
   "execution_count": 19,
   "metadata": {
    "collapsed": false
   },
   "outputs": [
    {
     "name": "stdout",
     "output_type": "stream",
     "text": [
      "1.40465142303\n"
     ]
    }
   ],
   "source": [
    "# 计算RMSE\n",
    "from sklearn import metrics\n",
    "print(np.sqrt(metrics.mean_squared_error(y_test,y_pred)))"
   ]
  },
  {
   "cell_type": "markdown",
   "metadata": {},
   "source": [
    "#### 特征选择\n",
    "在之前展示的数据中，我们看到Newspaper和销量之间的线性关系比较弱，现在我们移除这个特征，看看线性回归预测的结果的RMSE如何？"
   ]
  },
  {
   "cell_type": "code",
   "execution_count": 20,
   "metadata": {
    "collapsed": false
   },
   "outputs": [
    {
     "name": "stdout",
     "output_type": "stream",
     "text": [
      "1.38790346994\n"
     ]
    }
   ],
   "source": [
    "X = data[['TV','Radio']]\n",
    "y = data.Sales\n",
    "X_train, X_test, y_train, y_test = train_test_split(X, y, random_state=1)\n",
    "linreg.fit(X_train, y_train)\n",
    "y_pred = linreg.predict(X_test)\n",
    "print(np.sqrt(metrics.mean_squared_error(y_test, y_pred)))"
   ]
  },
  {
   "cell_type": "markdown",
   "metadata": {},
   "source": [
    "### for example 2:"
   ]
  },
  {
   "cell_type": "code",
   "execution_count": 21,
   "metadata": {
    "collapsed": true
   },
   "outputs": [],
   "source": [
    "import matplotlib.pyplot as plt\n",
    "from sklearn import datasets"
   ]
  },
  {
   "cell_type": "code",
   "execution_count": 22,
   "metadata": {
    "collapsed": false
   },
   "outputs": [
    {
     "name": "stdout",
     "output_type": "stream",
     "text": [
      "回归系数: \n",
      " [ 938.23786125]\n",
      "均方误差:2548.07\n"
     ]
    }
   ],
   "source": [
    "# 加载数据集\n",
    "diabetes = datasets.load_diabetes()\n",
    "# 仅适用一个特征\n",
    "diabetes_x = diabetes.data[:,np.newaxis,2]\n",
    "# 将数据分为测试集和训练集\n",
    "diabetes_x_train = diabetes_x[:-20]\n",
    "diabetes_x_test = diabetes_x[-20:]\n",
    "diabetes_y_train = diabetes.target[:-20]\n",
    "diabetes_y_test = diabetes.target[-20:]\n",
    "# 建立线性回归模型\n",
    "regr = linear_model.LinearRegression()\n",
    "regr.fit(diabetes_x_train, diabetes_y_train)\n",
    "print('回归系数: \\n', regr.coef_)\n",
    "print('均方误差:%.2f' % np.mean((regr.predict(diabetes_x_test)-diabetes_y_test)**2))"
   ]
  },
  {
   "cell_type": "code",
   "execution_count": 35,
   "metadata": {
    "collapsed": false
   },
   "outputs": [
    {
     "data": {
      "text/plain": [
       "([], <a list of 0 Text yticklabel objects>)"
      ]
     },
     "execution_count": 35,
     "metadata": {},
     "output_type": "execute_result"
    },
    {
     "data": {
      "image/png": "[encoded data removed]",
      "text/plain": [
       "<matplotlib.figure.Figure at 0x284f6439c88>"
      ]
     },
     "metadata": {},
     "output_type": "display_data"
    }
   ],
   "source": [
    "# 绘制回归图\n",
    "plt.scatter(diabetes_x_test,diabetes_y_test,color='black')\n",
    "plt.plot(diabetes_x_test,regr.predict(diabetes_x_test),color='blue',linewidth=3)\n",
    "plt.xticks(())\n",
    "plt.yticks(())\n",
    "#plt.show()"
   ]
  },
  {
   "cell_type": "markdown",
   "metadata": {},
   "source": [
    "### 1.2 岭回归"
   ]
  },
  {
   "cell_type": "markdown",
   "metadata": {},
   "source": [
    "岭回归是一种专用于共线性数据分析的有偏估计回归方法，实质上是一种改良的最小二乘估计法，通过放弃最小二乘法的无偏性，以损失部分信息、降低精度为代价获得回归系数更为符合实际、更可靠的回归方法，对病态数据的拟合要强于最小二乘法。\n",
    "一般来讲，普通回归X是列满秩的，而当某些列之间的线性相关性比较大时，将会出现不满秩的情况，即XTX接近于奇异，计算（XTX）-1时误差会很大，传统的最小二乘缺乏稳定性与可靠性。\n",
    "通过确定的值可以使得在方差和偏差之间达到平衡：随着的增大，模型方差减小而偏差增大。"
   ]
  },
  {
   "cell_type": "code",
   "execution_count": 24,
   "metadata": {
    "collapsed": false
   },
   "outputs": [
    {
     "name": "stdout",
     "output_type": "stream",
     "text": [
      "[ 0.34545455  0.34545455] 0.136363636364\n"
     ]
    }
   ],
   "source": [
    "from sklearn import linear_model\n",
    "reg = linear_model.Ridge(alpha = 0.5)\n",
    "reg.fit([[0,0],[0,0],[1,1]],[0,0.1,1])\n",
    "print(reg.coef_,reg.intercept_)"
   ]
  },
  {
   "cell_type": "code",
   "execution_count": 34,
   "metadata": {
    "collapsed": false
   },
   "outputs": [
    {
     "data": {
      "text/plain": [
       "(0.01, 1e-10, -175.62010984827353, 274.02304530397788)"
      ]
     },
     "execution_count": 34,
     "metadata": {},
     "output_type": "execute_result"
    },
    {
     "data": {
      "image/png": "[encoded data removed]",
      "text/plain": [
       "<matplotlib.figure.Figure at 0x284fb8ae4e0>"
      ]
     },
     "metadata": {},
     "output_type": "display_data"
    }
   ],
   "source": [
    "x = 1./(np.arange(1,11) + np.arange(0,10)[:,np.newaxis])\n",
    "y = np.ones(10)\n",
    "n_alphas = 200\n",
    "alphas = np.logspace(-10,-2,n_alphas)\n",
    "clf = linear_model.Ridge(fit_intercept=False)\n",
    "coefs = []\n",
    "for a in alphas:\n",
    "    clf.set_params(alpha=a)\n",
    "    clf.fit(x,y)\n",
    "    coefs.append(clf.coef_)\n",
    "ax = plt.gca()\n",
    "ax.plot(alphas,coefs)\n",
    "ax.set_xscale('log')\n",
    "ax.set_xlim(ax.get_xlim()[::-1])\n",
    "plt.xlabel('alpha')\n",
    "plt.ylabel('weights')\n",
    "plt.title('Ridge coefficients as a function of the regularization')\n",
    "plt.axis('tight')\n",
    "# plt.show()"
   ]
  },
  {
   "cell_type": "markdown",
   "metadata": {},
   "source": [
    "Ridge类已经设置了一系列默认的参数，因此clf = Ridge()即可以完成实例化。但是，了解一下它的参数还是有必要的：\n",
    "* alpha 正则化项的系数\n",
    "* copy_x 是否对x数组进行复制，默认是True,如果选False的话会覆盖原有x数组\n",
    "* fit_intercept 是否计算截距项\n",
    "* max_inter 最大的迭代次数\n",
    "* normalize 标准化x的开关，默认是False\n",
    "* solver 在计算过程中选择的解决器\n",
    "* ...\n",
    "对于模型的好坏，Ridge当然提供了评价的方法——score\n",
    "* score(X,y,sample_weight=None)：X为测试数据，y是测试数据的实际值，类型与fit中的相同，sample是权重"
   ]
  },
  {
   "cell_type": "markdown",
   "metadata": {},
   "source": [
    "#### 岭回归模型 & 留一法交叉验证"
   ]
  },
  {
   "cell_type": "code",
   "execution_count": 28,
   "metadata": {
    "collapsed": false
   },
   "outputs": [],
   "source": [
    "# 生成模拟数据\n",
    "from sklearn.datasets import make_regression\n",
    "reg_data,reg_target = make_regression(n_samples=100,n_features=2,effective_rank=1,noise=10)"
   ]
  },
  {
   "cell_type": "markdown",
   "metadata": {},
   "source": [
    "在linear_models模块中，有一个对象叫RidgeCV，表示岭回归交叉检验（ridge cross-validation）。这个交叉检验类似于留一交叉验证法（leave-one-out cross-validation，LOOCV）。这种方法是指训练数据时留一个样本，测试的时候用这个未被训练过的样本。"
   ]
  },
  {
   "cell_type": "code",
   "execution_count": 29,
   "metadata": {
    "collapsed": false
   },
   "outputs": [
    {
     "name": "stdout",
     "output_type": "stream",
     "text": [
      "0.1\n"
     ]
    },
    {
     "data": {
      "text/plain": [
       "RidgeCV(alphas=array([ 0.08,  0.09,  0.1 ,  0.11,  0.12]), cv=None,\n",
       "    fit_intercept=True, gcv_mode=None, normalize=False, scoring=None,\n",
       "    store_cv_values=False)"
      ]
     },
     "execution_count": 29,
     "metadata": {},
     "output_type": "execute_result"
    }
   ],
   "source": [
    "from sklearn.linear_model import RidgeCV\n",
    "rcv = RidgeCV(alphas=np.array([0.1,0.2,0.3,0.4]))\n",
    "rcv.fit(reg_data,reg_target)\n",
    "print(rcv.alpha_)    # alpha参数就是最优参数\n",
    "rcv = RidgeCV(alphas=np.array([.08, .09, .1, .11, .12]))\n",
    "rcv.fit(reg_data, reg_target)"
   ]
  },
  {
   "cell_type": "markdown",
   "metadata": {},
   "source": [
    "在交叉检验的每一步里，模型的拟合效果都是用测试样本的误差表示"
   ]
  },
  {
   "cell_type": "code",
   "execution_count": 40,
   "metadata": {
    "collapsed": false
   },
   "outputs": [
    {
     "data": {
      "text/plain": [
       "RidgeCV(alphas=array([ 0.0001 ,  0.00112,  0.00214,  0.00316,  0.00417,  0.00519,\n",
       "        0.00621,  0.00723,  0.00825,  0.00927,  0.01028,  0.0113 ,\n",
       "        0.01232,  0.01334,  0.01436,  0.01538,  0.01639,  0.01741,\n",
       "        0.01843,  0.01945,  0.02047,  0.02149,  0.0225 ,  0.02352,\n",
       "        0.02454,  0.02556...4185,\n",
       "        0.04287,  0.04389,  0.04491,  0.04593,  0.04694,  0.04796,\n",
       "        0.04898,  0.05   ]),\n",
       "    cv=None, fit_intercept=True, gcv_mode=None, normalize=False,\n",
       "    scoring=None, store_cv_values=True)"
      ]
     },
     "execution_count": 40,
     "metadata": {},
     "output_type": "execute_result"
    }
   ],
   "source": [
    "alphas_to_test = np.linspace(0.0001,0.05)\n",
    "rcv3 = RidgeCV(alphas=alphas_to_test,store_cv_values=True)\n",
    "rcv3.fit(reg_data,reg_target)"
   ]
  },
  {
   "cell_type": "markdown",
   "metadata": {},
   "source": [
    "通过100个样本的回归数据集，我们获得了50个不同的alpha值。我们可以看到50个误差值，最小的均值误差对应最优的alpha值："
   ]
  },
  {
   "cell_type": "code",
   "execution_count": 38,
   "metadata": {
    "collapsed": false
   },
   "outputs": [
    {
     "data": {
      "text/plain": [
       "0.018430612244897959"
      ]
     },
     "execution_count": 38,
     "metadata": {},
     "output_type": "execute_result"
    }
   ],
   "source": [
    "smallest_idx = rcv3.cv_values_.mean(axis=0).argmin()\n",
    "alphas_to_test[smallest_idx]"
   ]
  },
  {
   "cell_type": "code",
   "execution_count": 32,
   "metadata": {
    "collapsed": false
   },
   "outputs": [
    {
     "data": {
      "text/plain": [
       "0.018430612244897959"
      ]
     },
     "execution_count": 32,
     "metadata": {},
     "output_type": "execute_result"
    }
   ],
   "source": [
    "rcv3.alpha_"
   ]
  },
  {
   "cell_type": "code",
   "execution_count": 39,
   "metadata": {
    "collapsed": false
   },
   "outputs": [
    {
     "data": {
      "text/plain": [
       "[<matplotlib.lines.Line2D at 0x284f6a3b9e8>]"
      ]
     },
     "execution_count": 39,
     "metadata": {},
     "output_type": "execute_result"
    },
    {
     "data": {
      "image/png": "[encoded data removed]",
      "text/plain": [
       "<matplotlib.figure.Figure at 0x284fbd8ccf8>"
      ]
     },
     "metadata": {},
     "output_type": "display_data"
    }
   ],
   "source": [
    "%matplotlib inline\n",
    "import matplotlib.pyplot as plt\n",
    "f,ax = plt.subplots(figsize=(7,5))\n",
    "ax.set_title(r\"Various values of $\\alpha$\")\n",
    "xy = (alphas_to_best[smallest_idx],rcv3.cv_values_.mean(axis=0)[smallest_idx])\n",
    "xytext =  (xy[0] + .01, xy[1] + .1)\n",
    "ax.annotate(r'Chosen $\\alpha$', xy=xy, xytext=xytext,\n",
    "            arrowprops=dict(facecolor='black', shrink=0, width=0))\n",
    "ax.plot(alphas_to_test, rcv3.cv_values_.mean(axis=0))"
   ]
  },
  {
   "cell_type": "markdown",
   "metadata": {},
   "source": [
    "#### 自定义评分函数\n",
    "* 用其他误差自定义评分函数，也可以实现，前面介绍过MAD误差，我们可以用他来进行评分，首先需要定义损失函数"
   ]
  },
  {
   "cell_type": "code",
   "execution_count": 41,
   "metadata": {
    "collapsed": true
   },
   "outputs": [],
   "source": [
    "def MAD(target,prediction):\n",
    "    absolute_deviation = np.abs(target - prediction)\n",
    "    return absolute_deviation.mean()"
   ]
  },
  {
   "cell_type": "markdown",
   "metadata": {},
   "source": [
    "定义损失函数之后，我们用sklearn量度中的make_scorer函数来处理。这样做可以标准化自定义的函数，让scikit-learn对象可以使用它。另外，由于这是一个损失函数不是一个评分函数，是越低越好，所以要用sklearn来把最小化问题转化成最大化问题："
   ]
  },
  {
   "cell_type": "code",
   "execution_count": 42,
   "metadata": {
    "collapsed": false
   },
   "outputs": [
    {
     "data": {
      "text/plain": [
       "0.050000000000000003"
      ]
     },
     "execution_count": 42,
     "metadata": {},
     "output_type": "execute_result"
    }
   ],
   "source": [
    "import sklearn\n",
    "MAD = sklearn.metrics.make_scorer(MAD,greater_is_better=False)\n",
    "rcv4 = RidgeCV(alphas=alphas_to_test, store_cv_values=True, scoring=MAD)\n",
    "rcv4.fit(reg_data, reg_target)\n",
    "smallest_idx = rcv4.cv_values_.mean(axis=0).argmin()\n",
    "alphas_to_test[smallest_idx]"
   ]
  },
  {
   "cell_type": "code",
   "execution_count": null,
   "metadata": {
    "collapsed": true
   },
   "outputs": [],
   "source": []
  }
 ],
 "metadata": {
  "anaconda-cloud": {},
  "kernelspec": {
   "display_name": "Python [Root]",
   "language": "python",
   "name": "Python [Root]"
  },
  "language_info": {
   "codemirror_mode": {
    "name": "ipython",
    "version": 3
   },
   "file_extension": ".py",
   "mimetype": "text/x-python",
   "name": "python",
   "nbconvert_exporter": "python",
   "pygments_lexer": "ipython3",
   "version": "3.5.2"
  }
 },
 "nbformat": 4,
 "nbformat_minor": 0
}
